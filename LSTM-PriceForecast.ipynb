{
 "metadata": {
  "language_info": {
   "codemirror_mode": {
    "name": "ipython",
    "version": 3
   },
   "file_extension": ".py",
   "mimetype": "text/x-python",
   "name": "python",
   "nbconvert_exporter": "python",
   "pygments_lexer": "ipython3",
   "version": "3.8.5"
  },
  "orig_nbformat": 4,
  "kernelspec": {
   "name": "python3",
   "display_name": "Python 3.8.5 64-bit ('base': conda)"
  },
  "interpreter": {
   "hash": "8b8510a093585007eec165a5ed57454816cd944c4081df3d566e8d1cc53f95f1"
  }
 },
 "nbformat": 4,
 "nbformat_minor": 2,
 "cells": [
  {
   "cell_type": "code",
   "execution_count": 5,
   "metadata": {},
   "outputs": [
    {
     "output_type": "stream",
     "name": "stdout",
     "text": [
      "Python 3.8.5\n"
     ]
    }
   ],
   "source": [
    "#Python version\n",
    "!python --version"
   ]
  },
  {
   "cell_type": "code",
   "execution_count": 3,
   "metadata": {},
   "outputs": [
    {
     "output_type": "error",
     "ename": "ModuleNotFoundError",
     "evalue": "No module named 'tensorflow'",
     "traceback": [
      "\u001b[1;31m---------------------------------------------------------------------------\u001b[0m",
      "\u001b[1;31mModuleNotFoundError\u001b[0m                       Traceback (most recent call last)",
      "\u001b[1;32m<ipython-input-3-fda733e62e48>\u001b[0m in \u001b[0;36m<module>\u001b[1;34m\u001b[0m\n\u001b[0;32m      4\u001b[0m \u001b[1;32mimport\u001b[0m \u001b[0mMetaTrader5\u001b[0m \u001b[1;32mas\u001b[0m \u001b[0mmt5\u001b[0m\u001b[1;33m\u001b[0m\u001b[1;33m\u001b[0m\u001b[0m\n\u001b[0;32m      5\u001b[0m \u001b[1;33m\u001b[0m\u001b[0m\n\u001b[1;32m----> 6\u001b[1;33m \u001b[1;32mimport\u001b[0m \u001b[0mtensorflow\u001b[0m\u001b[1;33m\u001b[0m\u001b[1;33m\u001b[0m\u001b[0m\n\u001b[0m\u001b[0;32m      7\u001b[0m \u001b[0mget_ipython\u001b[0m\u001b[1;33m(\u001b[0m\u001b[1;33m)\u001b[0m\u001b[1;33m.\u001b[0m\u001b[0mrun_line_magic\u001b[0m\u001b[1;33m(\u001b[0m\u001b[1;34m'matplotlib'\u001b[0m\u001b[1;33m,\u001b[0m \u001b[1;34m'inline'\u001b[0m\u001b[1;33m)\u001b[0m\u001b[1;33m\u001b[0m\u001b[1;33m\u001b[0m\u001b[0m\n",
      "\u001b[1;31mModuleNotFoundError\u001b[0m: No module named 'tensorflow'"
     ]
    }
   ],
   "source": [
    "import pandas as pd\n",
    "import numpy as np\n",
    "import matplotlib.pyplot as plt\n",
    "import MetaTrader5 as mt5\n",
    "\n",
    "import tensorflow\n",
    "%matplotlib inline "
   ]
  },
  {
   "cell_type": "code",
   "execution_count": 6,
   "metadata": {},
   "outputs": [
    {
     "output_type": "stream",
     "name": "stdout",
     "text": [
      "MetaTrader5 package author:  MetaQuotes Software Corp.\n",
      "MetaTrader5 package version:  5.0.34 \n",
      "\n",
      "MetaTrader5 Initialized!\n",
      "Metatrader5 authorized!\n",
      "\n",
      " account_info() as dataframe:\n",
      "              property             value\n",
      "0                login            647545\n",
      "1           trade_mode                 0\n",
      "2             leverage              1000\n",
      "3         limit_orders               100\n",
      "4       margin_so_mode                 0\n",
      "5        trade_allowed              True\n",
      "6         trade_expert              True\n",
      "7          margin_mode                 2\n",
      "8      currency_digits                 2\n",
      "9           fifo_close             False\n",
      "10             balance            100000\n",
      "11              credit                 0\n",
      "12              profit                 0\n",
      "13              equity            100000\n",
      "14              margin                 0\n",
      "15         margin_free            100000\n",
      "16        margin_level                 0\n",
      "17      margin_so_call                40\n",
      "18        margin_so_so                20\n",
      "19      margin_initial                 0\n",
      "20  margin_maintenance                 0\n",
      "21              assets                 0\n",
      "22         liabilities                 0\n",
      "23  commission_blocked                 0\n",
      "24                name  Daffa Haj Tsaqif\n",
      "25              server          FBS-Demo\n",
      "26            currency               USD\n",
      "27             company           FBS Inc\n"
     ]
    }
   ],
   "source": [
    "#Trading Account Parameter\n",
    "account = 647545 #Account number\n",
    "password = \"QpjpAGkK\" #Password number\n",
    "server = \"FBS-Demo\" #Server name\n",
    "mt5_path = \"C:\\Program Files\\FBS MetaTrader 5\\terminal64.exe\" #path of Metatrader5 director\n",
    "\n",
    "mt5.initialize(\n",
    "   path = mt5_path,          # path to the MetaTrader 5 terminal EXE file\n",
    "   login = account,          # account number\n",
    "   password = password,      # password\n",
    "   server = server,          # server name as it is specified in the terminal\n",
    "   #timeout = TIMEOUT,       # timeout\n",
    "   portable = False          # portable mode\n",
    "   )\n",
    "\n",
    "# display data on the MetaTrader 5 package\n",
    "print(\"MetaTrader5 package author: \",mt5.__author__)\n",
    "print(\"MetaTrader5 package version: \",mt5.__version__,\"\\n\")\n",
    "\n",
    "# establish connection to the MetaTrader 5 terminal\n",
    "if not mt5.initialize():\n",
    "    print(\"initialize failed, error code =\",mt5.last_error())\n",
    "    mt5.shutdown()\n",
    "else:\n",
    "    print(\"MetaTrader5 Initialized!\")"
   ]
  },
  {
   "cell_type": "code",
   "execution_count": 2,
   "metadata": {},
   "outputs": [
    {
     "output_type": "error",
     "ename": "NameError",
     "evalue": "name 'mt5' is not defined",
     "traceback": [
      "\u001b[1;31m---------------------------------------------------------------------------\u001b[0m",
      "\u001b[1;31mNameError\u001b[0m                                 Traceback (most recent call last)",
      "\u001b[1;32m<ipython-input-2-d8664f14600f>\u001b[0m in \u001b[0;36m<module>\u001b[1;34m\u001b[0m\n\u001b[0;32m      1\u001b[0m \u001b[1;31m# extract information from pair and timeframe\u001b[0m\u001b[1;33m\u001b[0m\u001b[1;33m\u001b[0m\u001b[1;33m\u001b[0m\u001b[0m\n\u001b[0;32m      2\u001b[0m \u001b[0mSymbol\u001b[0m \u001b[1;33m=\u001b[0m \u001b[1;34m\"EURUSD\"\u001b[0m\u001b[1;33m\u001b[0m\u001b[1;33m\u001b[0m\u001b[0m\n\u001b[1;32m----> 3\u001b[1;33m \u001b[0mTimeframe\u001b[0m \u001b[1;33m=\u001b[0m \u001b[0mmt5\u001b[0m\u001b[1;33m.\u001b[0m\u001b[0mTIMEFRAME_D1\u001b[0m\u001b[1;33m\u001b[0m\u001b[1;33m\u001b[0m\u001b[0m\n\u001b[0m\u001b[0;32m      4\u001b[0m \u001b[0msymbol_info\u001b[0m \u001b[1;33m=\u001b[0m \u001b[0mmt5\u001b[0m\u001b[1;33m.\u001b[0m\u001b[0msymbol_info\u001b[0m\u001b[1;33m(\u001b[0m\u001b[0mSymbol\u001b[0m\u001b[1;33m)\u001b[0m\u001b[1;33m\u001b[0m\u001b[1;33m\u001b[0m\u001b[0m\n\u001b[0;32m      5\u001b[0m \u001b[1;32mif\u001b[0m \u001b[0msymbol_info\u001b[0m\u001b[1;33m==\u001b[0m\u001b[1;32mNone\u001b[0m\u001b[1;33m:\u001b[0m\u001b[1;33m\u001b[0m\u001b[1;33m\u001b[0m\u001b[0m\n",
      "\u001b[1;31mNameError\u001b[0m: name 'mt5' is not defined"
     ]
    }
   ],
   "source": [
    "# extract information from pair and timeframe\n",
    "Symbol = \"EURUSD\"\n",
    "Timeframe = mt5.TIMEFRAME_D1\n",
    "symbol_info = mt5.symbol_info(Symbol)\n",
    "if symbol_info==None:\n",
    "    print(\"Symbol {} not found, error code {}\".format(Symbol, mt5.last_error()))\n",
    "\n",
    "# getbars from the current day\n",
    "bar = 1000\n",
    "rates = mt5.copy_rates_from_pos(Symbol, Timeframe, 0, bar)\n",
    " \n",
    "# create DataFrame out of the obtained data\n",
    "rates_frame = pd.DataFrame(rates, dtype=np.dtype(\"float\"))\n",
    "# convert time in seconds into the datetime format\n",
    "rates_frame['time']=pd.to_datetime(rates_frame['time'], unit='s')\n",
    "                           \n",
    "# display data\n",
    "print(\"\\nDisplay dataframe with data\")\n",
    "print(rates_frame)\n",
    "\n",
    "# turn rates frame into csv file\n",
    "rates_frame.to_csv('./Datasets/{}_{}.csv'.format(Symbol, Timeframe), index=False)\n",
    "df = pd.read_csv('./Datasets/{}.csv'.format(Symbol, Timeframe))"
   ]
  },
  {
   "cell_type": "code",
   "execution_count": 1,
   "metadata": {},
   "outputs": [
    {
     "output_type": "error",
     "ename": "NameError",
     "evalue": "name 'df' is not defined",
     "traceback": [
      "\u001b[1;31m---------------------------------------------------------------------------\u001b[0m",
      "\u001b[1;31mNameError\u001b[0m                                 Traceback (most recent call last)",
      "\u001b[1;32m<ipython-input-1-8525980e25f3>\u001b[0m in \u001b[0;36m<module>\u001b[1;34m\u001b[0m\n\u001b[1;32m----> 1\u001b[1;33m \u001b[0mdf\u001b[0m \u001b[1;33m=\u001b[0m \u001b[0mdf\u001b[0m\u001b[1;33m[\u001b[0m\u001b[1;34m'close'\u001b[0m\u001b[1;33m]\u001b[0m\u001b[1;33m\u001b[0m\u001b[1;33m\u001b[0m\u001b[0m\n\u001b[0m\u001b[0;32m      2\u001b[0m \u001b[0mdf\u001b[0m\u001b[1;33m.\u001b[0m\u001b[0mhead\u001b[0m\u001b[1;33m(\u001b[0m\u001b[1;33m)\u001b[0m\u001b[1;33m\u001b[0m\u001b[1;33m\u001b[0m\u001b[0m\n\u001b[0;32m      3\u001b[0m \u001b[0mdf\u001b[0m\u001b[1;33m.\u001b[0m\u001b[0mplot\u001b[0m\u001b[1;33m(\u001b[0m\u001b[0mfigsize\u001b[0m\u001b[1;33m=\u001b[0m\u001b[1;33m(\u001b[0m\u001b[1;36m24\u001b[0m\u001b[1;33m,\u001b[0m\u001b[1;36m10\u001b[0m\u001b[1;33m)\u001b[0m\u001b[1;33m)\u001b[0m\u001b[1;33m\u001b[0m\u001b[1;33m\u001b[0m\u001b[0m\n",
      "\u001b[1;31mNameError\u001b[0m: name 'df' is not defined"
     ]
    }
   ],
   "source": [
    "df = df['close']\n",
    "df.plot(figsize=(24,10))\n",
    "df.head()"
   ]
  },
  {
   "cell_type": "code",
   "execution_count": null,
   "metadata": {},
   "outputs": [],
   "source": []
  }
 ]
}